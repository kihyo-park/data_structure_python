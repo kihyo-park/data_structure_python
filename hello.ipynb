{
 "cells": [
  {
   "cell_type": "code",
   "execution_count": 14,
   "metadata": {},
   "outputs": [],
   "source": [
    "class LinkedListnode:\n",
    "    def __init__(self, value = None):\n",
    "        self.value = value\n",
    "        self.next = None\n",
    "    def __str__(self):\n",
    "        return str(self.value)"
   ]
  },
  {
   "cell_type": "code",
   "execution_count": 25,
   "metadata": {},
   "outputs": [
    {
     "name": "stdout",
     "output_type": "stream",
     "text": [
      "None\n"
     ]
    }
   ],
   "source": [
    "def LinkedListLookUp(LinkedListnode, element_number : int):\n",
    "    current = LinkedListnode\n",
    "    count: int = 0\n",
    "\n",
    "    while count < element_number and current != None:\n",
    "        current = current.next\n",
    "        count = count + 1\n",
    "    \n",
    "    return current\n",
    "\n",
    "print(LinkedListLookUp(LinkedListnode(3), 5))"
   ]
  },
  {
   "cell_type": "code",
   "execution_count": 13,
   "metadata": {},
   "outputs": [
    {
     "data": {
      "text/plain": [
       "'a'"
      ]
     },
     "execution_count": 13,
     "metadata": {},
     "output_type": "execute_result"
    }
   ],
   "source": [
    "s = \"Haha\"\n",
    "\n",
    "preprocessed = \"\"\n",
    "for letter in s:\n",
    "    if letter.isalnum() == True:\n",
    "        preprocessed += letter.lower()\n",
    "\n",
    "preprocessed # \"haha\"\n",
    "\n",
    "preprocessed[3]"
   ]
  },
  {
   "cell_type": "code",
   "execution_count": 3,
   "metadata": {},
   "outputs": [
    {
     "name": "stdout",
     "output_type": "stream",
     "text": [
      "0\n",
      "1\n",
      "2\n",
      "3\n"
     ]
    }
   ],
   "source": [
    "nums = [1, 2, 5, 6]\n",
    "\n",
    "for i in range(len(nums)):\n",
    "    print(i)\n"
   ]
  },
  {
   "cell_type": "code",
   "execution_count": 16,
   "metadata": {},
   "outputs": [
    {
     "name": "stdout",
     "output_type": "stream",
     "text": [
      "indexs: 0, 1 prices: 7, 1\n",
      "indexs: 0, 2 prices: 7, 5\n",
      "indexs: 0, 3 prices: 7, 3\n",
      "indexs: 0, 4 prices: 7, 6\n",
      "indexs: 0, 5 prices: 7, 4\n",
      "indexs: 1, 2 prices: 1, 5\n",
      "indexs: 1, 3 prices: 1, 3\n",
      "indexs: 1, 4 prices: 1, 6\n",
      "indexs: 1, 5 prices: 1, 4\n",
      "indexs: 2, 3 prices: 5, 3\n",
      "indexs: 2, 4 prices: 5, 6\n",
      "indexs: 2, 5 prices: 5, 4\n",
      "indexs: 3, 4 prices: 3, 6\n",
      "indexs: 3, 5 prices: 3, 4\n",
      "indexs: 4, 5 prices: 6, 4\n"
     ]
    }
   ],
   "source": [
    "prices = [7,1,5,3,6,4]\n",
    "\n",
    "for i in range(len(prices)):\n",
    "    for j in range(i + 1, len(prices)):\n",
    "        print(f'indexs: {i}, {j} prices: {prices[i]}, {prices[j]}')\n",
    "\n",
    "        "
   ]
  }
 ],
 "metadata": {
  "kernelspec": {
   "display_name": "Python 3",
   "language": "python",
   "name": "python3"
  },
  "language_info": {
   "codemirror_mode": {
    "name": "ipython",
    "version": 3
   },
   "file_extension": ".py",
   "mimetype": "text/x-python",
   "name": "python",
   "nbconvert_exporter": "python",
   "pygments_lexer": "ipython3",
   "version": "3.12.1"
  }
 },
 "nbformat": 4,
 "nbformat_minor": 2
}
